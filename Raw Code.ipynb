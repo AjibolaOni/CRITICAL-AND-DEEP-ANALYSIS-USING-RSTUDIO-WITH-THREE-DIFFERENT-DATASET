{
 "cells": [
  {
   "cell_type": "code",
   "execution_count": 1,
   "id": "c04057f2",
   "metadata": {},
   "outputs": [
    {
     "data": {
      "text/plain": [
       "<bound method NDFrame.head of        ProductKey  OrderDateKey  DueDateKey  ShipDateKey  CustomerKey  \\\n",
       "0             310      20101229    20110110     20110105        21768   \n",
       "1             346      20101229    20110110     20110105        28389   \n",
       "2             346      20101229    20110110     20110105        25863   \n",
       "3             336      20101229    20110110     20110105        14501   \n",
       "4             346      20101229    20110110     20110105        11003   \n",
       "...           ...           ...         ...          ...          ...   \n",
       "60393         485      20140128    20140209     20140204        15868   \n",
       "60394         225      20140128    20140209     20140204        15868   \n",
       "60395         485      20140128    20140209     20140204        18759   \n",
       "60396         486      20140128    20140209     20140204        18759   \n",
       "60397         225      20140128    20140209     20140204        18759   \n",
       "\n",
       "       PromotionKey  CurrencyKey  SalesTerritoryKey SalesOrderNumber  \\\n",
       "0                 1           19                  6          SO43697   \n",
       "1                 1           39                  7          SO43698   \n",
       "2                 1          100                  1          SO43699   \n",
       "3                 1          100                  4          SO43700   \n",
       "4                 1            6                  9          SO43701   \n",
       "...             ...          ...                ...              ...   \n",
       "60393             1          100                  6          SO75122   \n",
       "60394             1          100                  6          SO75122   \n",
       "60395             1          100                  6          SO75123   \n",
       "60396             1          100                  6          SO75123   \n",
       "60397             1          100                  6          SO75123   \n",
       "\n",
       "       SalesOrderLineNumber  ...  ProductStandardCost  TotalProductCost  \\\n",
       "0                         1  ...            2171.2942         2171.2942   \n",
       "1                         1  ...            1912.1544         1912.1544   \n",
       "2                         1  ...            1912.1544         1912.1544   \n",
       "3                         1  ...             413.1463          413.1463   \n",
       "4                         1  ...            1912.1544         1912.1544   \n",
       "...                     ...  ...                  ...               ...   \n",
       "60393                     1  ...               8.2205            8.2205   \n",
       "60394                     2  ...               6.9223            6.9223   \n",
       "60395                     1  ...               8.2205            8.2205   \n",
       "60396                     2  ...              59.4660           59.4660   \n",
       "60397                     3  ...               6.9223            6.9223   \n",
       "\n",
       "       SalesAmount    TaxAmt  Freight  CarrierTrackingNumber  \\\n",
       "0        3578.2700  286.2616  89.4568                    NaN   \n",
       "1        3399.9900  271.9992  84.9998                    NaN   \n",
       "2        3399.9900  271.9992  84.9998                    NaN   \n",
       "3         699.0982   55.9279  17.4775                    NaN   \n",
       "4        3399.9900  271.9992  84.9998                    NaN   \n",
       "...            ...       ...      ...                    ...   \n",
       "60393      21.9800    1.7584   0.5495                    NaN   \n",
       "60394       8.9900    0.7192   0.2248                    NaN   \n",
       "60395      21.9800    1.7584   0.5495                    NaN   \n",
       "60396     159.0000   12.7200   3.9750                    NaN   \n",
       "60397       8.9900    0.7192   0.2248                    NaN   \n",
       "\n",
       "       CustomerPONumber                OrderDate                  DueDate  \\\n",
       "0                   NaN  2010-12-29 00:00:00.000  2011-01-10 00:00:00.000   \n",
       "1                   NaN  2010-12-29 00:00:00.000  2011-01-10 00:00:00.000   \n",
       "2                   NaN  2010-12-29 00:00:00.000  2011-01-10 00:00:00.000   \n",
       "3                   NaN  2010-12-29 00:00:00.000  2011-01-10 00:00:00.000   \n",
       "4                   NaN  2010-12-29 00:00:00.000  2011-01-10 00:00:00.000   \n",
       "...                 ...                      ...                      ...   \n",
       "60393               NaN  2014-01-28 00:00:00.000  2014-02-09 00:00:00.000   \n",
       "60394               NaN  2014-01-28 00:00:00.000  2014-02-09 00:00:00.000   \n",
       "60395               NaN  2014-01-28 00:00:00.000  2014-02-09 00:00:00.000   \n",
       "60396               NaN  2014-01-28 00:00:00.000  2014-02-09 00:00:00.000   \n",
       "60397               NaN  2014-01-28 00:00:00.000  2014-02-09 00:00:00.000   \n",
       "\n",
       "                      ShipDate  \n",
       "0      2011-01-05 00:00:00.000  \n",
       "1      2011-01-05 00:00:00.000  \n",
       "2      2011-01-05 00:00:00.000  \n",
       "3      2011-01-05 00:00:00.000  \n",
       "4      2011-01-05 00:00:00.000  \n",
       "...                        ...  \n",
       "60393  2014-02-04 00:00:00.000  \n",
       "60394  2014-02-04 00:00:00.000  \n",
       "60395  2014-02-04 00:00:00.000  \n",
       "60396  2014-02-04 00:00:00.000  \n",
       "60397  2014-02-04 00:00:00.000  \n",
       "\n",
       "[60398 rows x 26 columns]>"
      ]
     },
     "execution_count": 1,
     "metadata": {},
     "output_type": "execute_result"
    }
   ],
   "source": [
    "import pandas as pd \n",
    "\n",
    "# input the directory the data set is located on your pc \n",
    "sales = pd.read_csv('C:/Users/user/Desktop/DataSet_final/FactInternetSales.csv')\n",
    "sales.head"
   ]
  },
  {
   "cell_type": "code",
   "execution_count": 2,
   "id": "f34ff595",
   "metadata": {},
   "outputs": [],
   "source": [
    "import matplotlib.pyplot as plt\n",
    "import numpy as np\n",
    "\n",
    "%matplotlib inline"
   ]
  },
  {
   "cell_type": "code",
   "execution_count": 3,
   "id": "d9d343e5",
   "metadata": {},
   "outputs": [
    {
     "data": {
      "text/plain": [
       "(60398, 26)"
      ]
     },
     "execution_count": 3,
     "metadata": {},
     "output_type": "execute_result"
    }
   ],
   "source": [
    "sales.shape"
   ]
  },
  {
   "cell_type": "code",
   "execution_count": 4,
   "id": "b70a62df",
   "metadata": {},
   "outputs": [
    {
     "name": "stdout",
     "output_type": "stream",
     "text": [
      "<class 'pandas.core.frame.DataFrame'>\n",
      "RangeIndex: 60398 entries, 0 to 60397\n",
      "Data columns (total 26 columns):\n",
      " #   Column                 Non-Null Count  Dtype  \n",
      "---  ------                 --------------  -----  \n",
      " 0   ProductKey             60398 non-null  int64  \n",
      " 1   OrderDateKey           60398 non-null  int64  \n",
      " 2   DueDateKey             60398 non-null  int64  \n",
      " 3   ShipDateKey            60398 non-null  int64  \n",
      " 4   CustomerKey            60398 non-null  int64  \n",
      " 5   PromotionKey           60398 non-null  int64  \n",
      " 6   CurrencyKey            60398 non-null  int64  \n",
      " 7   SalesTerritoryKey      60398 non-null  int64  \n",
      " 8   SalesOrderNumber       60398 non-null  object \n",
      " 9   SalesOrderLineNumber   60398 non-null  int64  \n",
      " 10  RevisionNumber         60398 non-null  int64  \n",
      " 11  OrderQuantity          60398 non-null  int64  \n",
      " 12  UnitPrice              60398 non-null  float64\n",
      " 13  ExtendedAmount         60398 non-null  float64\n",
      " 14  UnitPriceDiscountPct   60398 non-null  int64  \n",
      " 15  DiscountAmount         60398 non-null  int64  \n",
      " 16  ProductStandardCost    60398 non-null  float64\n",
      " 17  TotalProductCost       60398 non-null  float64\n",
      " 18  SalesAmount            60398 non-null  float64\n",
      " 19  TaxAmt                 60398 non-null  float64\n",
      " 20  Freight                60398 non-null  float64\n",
      " 21  CarrierTrackingNumber  0 non-null      float64\n",
      " 22  CustomerPONumber       0 non-null      float64\n",
      " 23  OrderDate              60398 non-null  object \n",
      " 24  DueDate                60398 non-null  object \n",
      " 25  ShipDate               60398 non-null  object \n",
      "dtypes: float64(9), int64(13), object(4)\n",
      "memory usage: 12.0+ MB\n"
     ]
    }
   ],
   "source": [
    "sales.info()"
   ]
  },
  {
   "cell_type": "code",
   "execution_count": null,
   "id": "fc7f55f2",
   "metadata": {},
   "outputs": [],
   "source": [
    "sales.describe()"
   ]
  },
  {
   "cell_type": "code",
   "execution_count": null,
   "id": "0265204f",
   "metadata": {},
   "outputs": [],
   "source": [
    "sales['TotalProductCost'].mean()"
   ]
  },
  {
   "cell_type": "code",
   "execution_count": null,
   "id": "702c98c7",
   "metadata": {},
   "outputs": [],
   "source": [
    "sales['TotalProductCost'].plot(kind='box', vert=False, figsize=(14,6))"
   ]
  },
  {
   "cell_type": "code",
   "execution_count": null,
   "id": "e772f089",
   "metadata": {},
   "outputs": [],
   "source": [
    "sales['TotalProductCost'].plot(kind='density', figsize=(14,6))"
   ]
  },
  {
   "cell_type": "code",
   "execution_count": null,
   "id": "ca568b24",
   "metadata": {},
   "outputs": [],
   "source": [
    "ax = sales['TotalProductCost'].plot(kind='density', figsize=(14,6))\n",
    "ax.axvline(sales['TotalProductCost'].mean(), color = 'red')\n",
    "ax.axvline(sales['TotalProductCost'].median(), color='green')"
   ]
  },
  {
   "cell_type": "code",
   "execution_count": null,
   "id": "5d713f2a",
   "metadata": {},
   "outputs": [],
   "source": [
    "af = sales['TotalProductCost'].plot(kind='hist', figsize=(14,6))\n",
    "af.set_ylabel('Number of sales')\n",
    "af.set_xlabel('dollars')"
   ]
  },
  {
   "cell_type": "code",
   "execution_count": null,
   "id": "7e2c8335",
   "metadata": {},
   "outputs": [],
   "source": [
    "corr = sales.corr()\n",
    "corr"
   ]
  },
  {
   "cell_type": "code",
   "execution_count": null,
   "id": "9f3fa2ce",
   "metadata": {},
   "outputs": [],
   "source": [
    "fig = plt.figure(figsize=(8,8))\n",
    "plt.matshow(corr, cmap='RdBu', fignum=fig.number)\n",
    "plt.xticks(range(len(corr.columns)), corr.columns, rotation='vertical');\n",
    "plt.yticks(range(len(corr.columns)), corr.columns);"
   ]
  },
  {
   "cell_type": "code",
   "execution_count": null,
   "id": "bd9aa07e",
   "metadata": {},
   "outputs": [],
   "source": [
    "sales.plot(kind='scatter', x='TotalProductCost', y='SalesAmount', figsize=(6,6))"
   ]
  },
  {
   "cell_type": "code",
   "execution_count": null,
   "id": "3528c074",
   "metadata": {},
   "outputs": [],
   "source": [
    "sales['Profit'] = sales['SalesAmount'] - sales['TotalProductCost'] - sales['TaxAmt']\n",
    "\n",
    "sales['Profit'].head"
   ]
  },
  {
   "cell_type": "code",
   "execution_count": null,
   "id": "cefba3c9",
   "metadata": {},
   "outputs": [],
   "source": [
    "sales.plot(kind='scatter', x='TotalProductCost', y='Profit', figsize=(6,6))"
   ]
  },
  {
   "cell_type": "code",
   "execution_count": null,
   "id": "9c310ba0",
   "metadata": {},
   "outputs": [],
   "source": [
    "sales['Profit'].plot(kind='hist', figsize=(14,6))"
   ]
  },
  {
   "cell_type": "code",
   "execution_count": null,
   "id": "f41a9536",
   "metadata": {},
   "outputs": [],
   "source": [
    "from sklearn.model_selection import train_test_split\n",
    "from sklearn.linear_model import LinearRegression\n",
    "clf = LinearRegression()\n",
    "x = sales[['TotalProductCost', 'TaxAmt']]\n",
    "y = sales['SalesAmount']\n",
    "x_train, x_test,y_train,y_test = train_test_split(x,y,test_size =0.2, random_state=10)\n",
    "clf.fit(x_train,y_train)\n",
    "clf.predict(x_test)"
   ]
  },
  {
   "cell_type": "code",
   "execution_count": null,
   "id": "ad0ec573",
   "metadata": {},
   "outputs": [],
   "source": [
    "import joblib\n",
    "joblib.dump(clf, 'price-predictor.joblib')\n",
    "model = joblib.load('price-predictor.joblib')\n",
    "prediction = model.predict([[1000, 100]])\n",
    "prediction"
   ]
  }
 ],
 "metadata": {
  "kernelspec": {
   "display_name": "Python 3 (ipykernel)",
   "language": "python",
   "name": "python3"
  },
  "language_info": {
   "codemirror_mode": {
    "name": "ipython",
    "version": 3
   },
   "file_extension": ".py",
   "mimetype": "text/x-python",
   "name": "python",
   "nbconvert_exporter": "python",
   "pygments_lexer": "ipython3",
   "version": "3.9.13"
  }
 },
 "nbformat": 4,
 "nbformat_minor": 5
}
